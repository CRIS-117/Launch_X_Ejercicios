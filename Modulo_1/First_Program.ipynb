{
  "cells": [
    {
      "cell_type": "markdown",
      "metadata": {},
      "source": [
        "# Función print()"
      ]
    },
    {
      "cell_type": "code",
      "execution_count": 9,
      "metadata": {},
      "outputs": [
        {
          "name": "stdout",
          "output_type": "stream",
          "text": [
            "Hola a Launch X\n"
          ]
        }
      ],
      "source": [
        "print('Hola a Launch X')"
      ]
    },
    {
      "cell_type": "markdown",
      "metadata": {},
      "source": [
        "# Variables"
      ]
    },
    {
      "cell_type": "code",
      "execution_count": 10,
      "metadata": {},
      "outputs": [
        {
          "name": "stdout",
          "output_type": "stream",
          "text": [
            "66\n"
          ]
        }
      ],
      "source": [
        "sum = 13 + 20\n",
        "product = sum * 2\n",
        "print(product)"
      ]
    },
    {
      "cell_type": "markdown",
      "metadata": {},
      "source": [
        "# Tipo de datos"
      ]
    },
    {
      "cell_type": "code",
      "execution_count": 11,
      "metadata": {},
      "outputs": [
        {
          "data": {
            "text/plain": [
              "str"
            ]
          },
          "execution_count": 11,
          "metadata": {},
          "output_type": "execute_result"
        }
      ],
      "source": [
        "Numero_de_planetas = 8\n",
        "Distancia_a_Alpha_Centauri = 4.36\n",
        "Despegar = True\n",
        "Transbordador_que_aterrizo = \"Apollo 11\"\n",
        "\n",
        "type(Numero_de_planetas)\n",
        "type(Distancia_a_Alpha_Centauri)\n",
        "type(Despegar)\n",
        "type(Transbordador_que_aterrizo)"
      ]
    },
    {
      "cell_type": "markdown",
      "metadata": {},
      "source": [
        "# Fechas"
      ]
    },
    {
      "cell_type": "code",
      "execution_count": 12,
      "metadata": {},
      "outputs": [
        {
          "name": "stdout",
          "output_type": "stream",
          "text": [
            "Note: you may need to restart the kernel to use updated packages.\n"
          ]
        },
        {
          "name": "stderr",
          "output_type": "stream",
          "text": [
            "ERROR: Could not find a version that satisfies the requirement date (from versions: none)\n",
            "ERROR: No matching distribution found for date\n"
          ]
        }
      ],
      "source": [
        "pip install date"
      ]
    },
    {
      "cell_type": "code",
      "execution_count": 13,
      "metadata": {},
      "outputs": [
        {
          "name": "stdout",
          "output_type": "stream",
          "text": [
            "2022-02-13\n"
          ]
        }
      ],
      "source": [
        "from datetime import date\n",
        "\n",
        "date.today()\n",
        "print(date.today())"
      ]
    },
    {
      "cell_type": "markdown",
      "metadata": {},
      "source": [
        "# Conversión de tipos de datos"
      ]
    },
    {
      "cell_type": "code",
      "execution_count": 14,
      "metadata": {},
      "outputs": [
        {
          "name": "stdout",
          "output_type": "stream",
          "text": [
            "Today's date is: 2022-02-13\n"
          ]
        }
      ],
      "source": [
        "print(\"Today's date is: \" + str(date.today()))"
      ]
    },
    {
      "cell_type": "markdown",
      "metadata": {},
      "source": [
        "# Recopilar información"
      ]
    },
    {
      "cell_type": "code",
      "execution_count": 15,
      "metadata": {},
      "outputs": [
        {
          "name": "stdout",
          "output_type": "stream",
          "text": [
            "Bienvenido al programa de Launch X\n",
            "Hola Cristofer\n"
          ]
        }
      ],
      "source": [
        "print(\"Bienvenido al programa de Launch X\")\n",
        "name = input(\"Introduzca su nombre \")\n",
        "print(\"Hola \" + name)"
      ]
    },
    {
      "cell_type": "markdown",
      "metadata": {},
      "source": [
        "# Trabajar con números"
      ]
    },
    {
      "cell_type": "code",
      "execution_count": 16,
      "metadata": {},
      "outputs": [
        {
          "name": "stdout",
          "output_type": "stream",
          "text": [
            "Calculadora\n",
            "1216\n"
          ]
        }
      ],
      "source": [
        "print(\"Calculadora\")\n",
        "first_num = input(\"Primer número: \")\n",
        "second_num = input(\"Segundo número: \")\n",
        "print(first_num + second_num)"
      ]
    },
    {
      "cell_type": "code",
      "execution_count": 17,
      "metadata": {},
      "outputs": [
        {
          "name": "stdout",
          "output_type": "stream",
          "text": [
            "Calculadora\n",
            "88\n"
          ]
        }
      ],
      "source": [
        "print(\"Calculadora\")\n",
        "first_num = input(\"Primer número: \")\n",
        "second_num = input(\"Segundo número: \")\n",
        "print(int(first_num) + int(second_num))"
      ]
    }
  ],
  "metadata": {
    "interpreter": {
      "hash": "f993294f222aa43e7d2ef032cb7262ce65d4bb70d5d6a0b5429ac56c13f0bb1e"
    },
    "kernelspec": {
      "display_name": "Python 3.9.10 64-bit (windows store)",
      "language": "python",
      "name": "python3"
    },
    "language_info": {
      "codemirror_mode": {
        "name": "ipython",
        "version": 3
      },
      "file_extension": ".py",
      "mimetype": "text/x-python",
      "name": "python",
      "nbconvert_exporter": "python",
      "pygments_lexer": "ipython3",
      "version": "3.9.10"
    },
    "orig_nbformat": 4
  },
  "nbformat": 4,
  "nbformat_minor": 2
}
