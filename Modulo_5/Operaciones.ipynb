{
  "cells": [
    {
      "cell_type": "markdown",
      "metadata": {},
      "source": [
        "# Ejercicio1 - Utilizar operadores aritméticos"
      ]
    },
    {
      "cell_type": "code",
      "execution_count": 1,
      "metadata": {},
      "outputs": [
        {
          "name": "stdout",
          "output_type": "stream",
          "text": [
            "628949330\n",
            "390577533.93\n"
          ]
        }
      ],
      "source": [
        "Distancia_Tierra = 149597870\n",
        "Distancia_Jupiter = 778547200\n",
        "\n",
        "distancia_km = Distancia_Jupiter - Distancia_Tierra\n",
        "print(distancia_km)\n",
        "\n",
        "distancia_millas = distancia_km * 0.621\n",
        "print(distancia_millas)"
      ]
    },
    {
      "cell_type": "markdown",
      "metadata": {},
      "source": [
        "# Ejercicio 2: convierte cadenas en números y usa valores absolutos\n"
      ]
    },
    {
      "cell_type": "code",
      "execution_count": 4,
      "metadata": {},
      "outputs": [
        {
          "name": "stdout",
          "output_type": "stream",
          "text": [
            "4437200000\n",
            "2755501200.0\n"
          ]
        }
      ],
      "source": [
        "planeta_1 = input(\"Ingrese la distancia del primer planeta deseado al sol\")\n",
        "planeta_2 = input(\"Ingrese la distancia del segundo planeta deseado al sol\")\n",
        "\n",
        "planeta_1 = int(planeta_1)\n",
        "planeta_2 = int(planeta_2)\n",
        "\n",
        "km = planeta_2 - planeta_1\n",
        "print(abs(km))\n",
        "\n",
        "millas = km * 0.621\n",
        "print(abs(millas))"
      ]
    }
  ],
  "metadata": {
    "interpreter": {
      "hash": "f993294f222aa43e7d2ef032cb7262ce65d4bb70d5d6a0b5429ac56c13f0bb1e"
    },
    "kernelspec": {
      "display_name": "Python 3.9.10 64-bit (windows store)",
      "language": "python",
      "name": "python3"
    },
    "language_info": {
      "codemirror_mode": {
        "name": "ipython",
        "version": 3
      },
      "file_extension": ".py",
      "mimetype": "text/x-python",
      "name": "python",
      "nbconvert_exporter": "python",
      "pygments_lexer": "ipython3",
      "version": "3.9.10"
    },
    "orig_nbformat": 4
  },
  "nbformat": 4,
  "nbformat_minor": 2
}
