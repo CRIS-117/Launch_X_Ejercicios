{
 "cells": [
  {
   "cell_type": "markdown",
   "metadata": {},
   "source": [
    "# Ejercicio 1: Trabajar con argumentos en funciones"
   ]
  },
  {
   "cell_type": "code",
   "execution_count": 2,
   "metadata": {},
   "outputs": [
    {
     "name": "stdout",
     "output_type": "stream",
     "text": [
      "REPORTE DE TANQUES:\n",
      "    Promedio: 51%\n",
      "    tanque 1: 55%\n",
      "    tanque 2: 67%\n",
      "    tanque 3: 30%\n"
     ]
    }
   ],
   "source": [
    "def reporte(tanque_1,tanque_2, tanque_3):\n",
    "    prom = (tanque_1 + tanque_2 + tanque_3)/3\n",
    "    return f\"\"\"REPORTE DE TANQUES:\n",
    "    Promedio: {round(prom)}%\n",
    "    tanque 1: {tanque_1}%\n",
    "    tanque 2: {tanque_2}%\n",
    "    tanque 3: {tanque_3}%\"\"\"\n",
    "\n",
    "print(reporte(55,67,30))"
   ]
  },
  {
   "cell_type": "code",
   "execution_count": 13,
   "metadata": {},
   "outputs": [],
   "source": [
    "def promedio(cantidades):\n",
    "    suma = sum(cantidades)\n",
    "    num_de_tanques = len(cantidades)\n",
    "    return suma / num_de_tanques"
   ]
  },
  {
   "cell_type": "code",
   "execution_count": 12,
   "metadata": {},
   "outputs": [
    {
     "name": "stdout",
     "output_type": "stream",
     "text": [
      "Promedio: 59.0%\n",
      "    tanque 1: 80%\n",
      "    tanque 2: 67%\n",
      "    tanque 3: 30%\n"
     ]
    }
   ],
   "source": [
    "def reporte(tanque_1,tanque_2, tanque_3):\n",
    " return f\"\"\"Promedio: {promedio([tanque_1, tanque_2, tanque_3])}%\n",
    "    tanque 1: {tanque_1}%\n",
    "    tanque 2: {tanque_2}%\n",
    "    tanque 3: {tanque_3}%\"\"\"\n",
    "\n",
    "print(reporte(80,67,30))"
   ]
  },
  {
   "cell_type": "markdown",
   "metadata": {},
   "source": [
    "# Ejercicio 2 : Trabajar con argumentos de palabras clave en funciones"
   ]
  },
  {
   "cell_type": "code",
   "execution_count": 14,
   "metadata": {},
   "outputs": [
    {
     "name": "stdout",
     "output_type": "stream",
     "text": [
      "\n",
      "    Destino a: Venus\n",
      "    Tiempo de viaje: 57 min\n",
      "    Combustible: 82344\n"
     ]
    }
   ],
   "source": [
    "def reporte_2(pre,tiempo,destino,tanque_externo,tanque_interno):\n",
    "    return f\"\"\"\n",
    "    Destino a: {destino}\n",
    "    Tiempo de viaje: {pre + tiempo} min\n",
    "    Combustible: {tanque_externo + tanque_interno}\"\"\"\n",
    "print(reporte_2(23,34,\"Venus\",50000,32344))"
   ]
  },
  {
   "cell_type": "code",
   "execution_count": 15,
   "metadata": {},
   "outputs": [
    {
     "name": "stdout",
     "output_type": "stream",
     "text": [
      "\n",
      "    Destino a: Jupiter\n",
      "    Tiempo de viaje: 82 min\n",
      "    Combustible: 733455\n"
     ]
    }
   ],
   "source": [
    "def reporte_2(destino,*minutos,**combustible):\n",
    "    return f\"\"\"\n",
    "    Destino a: {destino}\n",
    "    Tiempo de viaje: {sum(minutos)} min\n",
    "    Combustible: {sum(combustible.values())}\"\"\"\n",
    "print(reporte_2(\"Jupiter\",50,32,tanque1=400000,tanque2=333455))\n"
   ]
  },
  {
   "cell_type": "code",
   "execution_count": 18,
   "metadata": {},
   "outputs": [
    {
     "name": "stdout",
     "output_type": "stream",
     "text": [
      "\n",
      "    Destino a: Jupiter\n",
      "    Tiempo de viaje: 82 min\n",
      "    Combustible: 733455\n",
      "tanque1 tanque = 400000\n",
      "tanque2 tanque = 333455\n",
      "\n"
     ]
    }
   ],
   "source": [
    "def reporte_2(destino,*minutos,**combustible):\n",
    "    reporte_3 = f\"\"\"\n",
    "    Destino a: {destino}\n",
    "    Tiempo de viaje: {sum(minutos)} min\n",
    "    Combustible: {sum(combustible.values())}\\n\"\"\"\n",
    "\n",
    "    for tanques, combustibles in combustible.items():\n",
    "        reporte_3 += f\"{tanques} tanque = {combustibles}\\n\"\n",
    "    return reporte_3\n",
    "print(reporte_2(\"Jupiter\",50,32,tanque1=400000,tanque2=333455))"
   ]
  }
 ],
 "metadata": {
  "interpreter": {
   "hash": "f993294f222aa43e7d2ef032cb7262ce65d4bb70d5d6a0b5429ac56c13f0bb1e"
  },
  "kernelspec": {
   "display_name": "Python 3.9.10 64-bit (windows store)",
   "language": "python",
   "name": "python3"
  },
  "language_info": {
   "codemirror_mode": {
    "name": "ipython",
    "version": 3
   },
   "file_extension": ".py",
   "mimetype": "text/x-python",
   "name": "python",
   "nbconvert_exporter": "python",
   "pygments_lexer": "ipython3",
   "version": "3.9.10"
  },
  "orig_nbformat": 4
 },
 "nbformat": 4,
 "nbformat_minor": 2
}
