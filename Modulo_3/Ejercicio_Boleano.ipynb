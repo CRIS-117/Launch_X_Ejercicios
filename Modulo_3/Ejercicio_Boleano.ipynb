{
 "cells": [
  {
   "cell_type": "markdown",
   "metadata": {},
   "source": [
    "# Ejercicio - Escribir declaraciones `if`, `else`, y `elif`"
   ]
  },
  {
   "cell_type": "code",
   "execution_count": 2,
   "metadata": {},
   "outputs": [
    {
     "name": "stdout",
     "output_type": "stream",
     "text": [
      "23\n"
     ]
    }
   ],
   "source": [
    "a = 23\n",
    "b = 89\n",
    "\n",
    "if a <= b:\n",
    "    print(a)"
   ]
  },
  {
   "cell_type": "code",
   "execution_count": 3,
   "metadata": {},
   "outputs": [
    {
     "name": "stdout",
     "output_type": "stream",
     "text": [
      "a es menor que b\n"
     ]
    }
   ],
   "source": [
    "a = 34\n",
    "b = 65\n",
    "c = 12\n",
    "\n",
    "if a > b:\n",
    "    if b > c:\n",
    "        print (\"a es mayor que b y b es mayor que c\")\n",
    "    else: \n",
    "        print (\"a es mayor que b y menor que c\")\n",
    "elif a == b:\n",
    "    print (\"a es igual que b\")\n",
    "else:\n",
    "    print (\"a es menor que b\")"
   ]
  },
  {
   "cell_type": "markdown",
   "metadata": {},
   "source": [
    "Para este ejercicio, escribirás una lógica condicional que imprima una advertencia si un asteroide se acerca a la Tierra demasiado rápido. La velocidad del asteroide varía dependiendo de lo cerca que esté del sol, y cualquier velocidad superior a 25 kilómetros por segundo (km/s) merece una advertencia.\n",
    "\n",
    "Un asteroide se acerca, y viaja a una velocidad de 49 km/s."
   ]
  },
  {
   "cell_type": "code",
   "execution_count": 9,
   "metadata": {},
   "outputs": [
    {
     "name": "stdout",
     "output_type": "stream",
     "text": [
      "El asteroide esta cerca de la tierra, colision inminente\n"
     ]
    }
   ],
   "source": [
    "Velocidad_asteroide = input(\"¿Cual es la velocidad del asteroide\")\n",
    "\n",
    "if int(Velocidad_asteroide) >= 20:\n",
    "    print(\"El asteroide esta cerca de la tierra, colision inminente\")\n",
    "else:\n",
    "    print(\"El asteroide no representa un peligro para la Tierra\")"
   ]
  },
  {
   "cell_type": "markdown",
   "metadata": {},
   "source": [
    "Si un asteroide entra en la atmósfera de la Tierra a una velocidad mayor o igual a 20 km/s, a veces produce un rayo de luz que se puede ver desde la Tierra. Escribe la lógica condicional que usa declaraciones `if`, `else`, y `elif` para alertar a las personas de todo el mundo que deben buscar un asteroide en el cielo. ¡Hay uno que se dirige a la tierra ahora a una velocidad de 19 km/s!"
   ]
  },
  {
   "cell_type": "code",
   "execution_count": 10,
   "metadata": {},
   "outputs": [
    {
     "name": "stdout",
     "output_type": "stream",
     "text": [
      "No se encontro estela de luz\n"
     ]
    }
   ],
   "source": [
    "Velocidad = 19\n",
    "if Velocidad > 20:\n",
    "    print('¡Hay una estela de luz en el cielo!')\n",
    "elif Velocidad == 20:\n",
    "    print('¡Hay una estela de luz en el cielo!')\n",
    "else:\n",
    "    print('No se encontro estela de luz')"
   ]
  },
  {
   "cell_type": "markdown",
   "metadata": {},
   "source": [
    "# Ejercicio: Uso de operadores `and` y `or` "
   ]
  },
  {
   "cell_type": "code",
   "execution_count": 11,
   "metadata": {},
   "outputs": [
    {
     "name": "stdout",
     "output_type": "stream",
     "text": [
      "Un asteroide se dirije hacia la Tierra D:\n"
     ]
    }
   ],
   "source": [
    "vel_ast = input(\"Ingrese la velocidad del asteroide:\")\n",
    "tam_ast = input(\"Ingrese el tamaño del asteroide:\")\n",
    "if int(vel_ast) > 25 and int(tam_ast) > 25:\n",
    "    print('Un asteroide se dirije hacia la Tierra D:')\n",
    "elif int(vel_ast) >= 20:\n",
    "    print('Un destello en el cielo :D')\n",
    "elif int(tam_ast) < 25:\n",
    "    print('Estamos a salvo :D')\n",
    "else:\n",
    "    print('No hay nada :/')"
   ]
  }
 ],
 "metadata": {
  "interpreter": {
   "hash": "f993294f222aa43e7d2ef032cb7262ce65d4bb70d5d6a0b5429ac56c13f0bb1e"
  },
  "kernelspec": {
   "display_name": "Python 3.9.10 64-bit (windows store)",
   "language": "python",
   "name": "python3"
  },
  "language_info": {
   "codemirror_mode": {
    "name": "ipython",
    "version": 3
   },
   "file_extension": ".py",
   "mimetype": "text/x-python",
   "name": "python",
   "nbconvert_exporter": "python",
   "pygments_lexer": "ipython3",
   "version": "3.9.10"
  },
  "orig_nbformat": 4
 },
 "nbformat": 4,
 "nbformat_minor": 2
}
